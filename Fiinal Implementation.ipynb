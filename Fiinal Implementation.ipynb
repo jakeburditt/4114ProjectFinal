{
 "cells": [
  {
   "cell_type": "markdown",
   "metadata": {},
   "source": [
    "# SIMPLE RANDOM TREE ON ORIGINAL DATA"
   ]
  },
  {
   "cell_type": "code",
   "execution_count": 2,
   "metadata": {},
   "outputs": [],
   "source": [
    "from PIL import Image\n",
    "import numpy as np\n",
    "import os"
   ]
  },
  {
   "cell_type": "markdown",
   "metadata": {},
   "source": [
    "# Import Data"
   ]
  },
  {
   "cell_type": "code",
   "execution_count": 3,
   "metadata": {},
   "outputs": [],
   "source": [
    "import random\n",
    "\n",
    "def import_dataset():\n",
    "    shapes = [\"circle\", \"square\", \"triangle\", \"star\"]\n",
    "    X = []\n",
    "    y = []\n",
    "\n",
    "    for shape in shapes:\n",
    "        shape_files = os.listdir(f\"shapes/{shape}\")\n",
    "        \n",
    "\n",
    "        for image in shape_files:\n",
    "            X.append(np.asarray(Image.open(f\"shapes/{shape}/{image}\")))\n",
    "            y.append(shape)\n",
    "\n",
    "    return X, y\n",
    "\n",
    "X_original_set, y_original_set = import_dataset()"
   ]
  },
  {
   "cell_type": "code",
   "execution_count": 4,
   "metadata": {},
   "outputs": [],
   "source": [
    "X_original_set = [np.asarray(row).flatten() for row in X_original_set]"
   ]
  },
  {
   "cell_type": "markdown",
   "metadata": {},
   "source": [
    "# Encoding and Split Data"
   ]
  },
  {
   "cell_type": "code",
   "execution_count": 5,
   "metadata": {},
   "outputs": [],
   "source": [
    "from sklearn.preprocessing import LabelEncoder\n",
    "\n",
    "le = LabelEncoder()\n",
    "y_enc_o = le.fit_transform(y_original_set)"
   ]
  },
  {
   "cell_type": "code",
   "execution_count": 6,
   "metadata": {},
   "outputs": [
    {
     "name": "stdout",
     "output_type": "stream",
     "text": [
      "(samples,features)\n",
      "(11227, 40000)\n",
      "(11227,)\n"
     ]
    }
   ],
   "source": [
    "from sklearn.model_selection import train_test_split\n",
    "\n",
    "X_train, X_test, y_train, y_test = train_test_split(X_original_set, y_enc_o, test_size=1/4)\n",
    "print(\"(samples,features)\")\n",
    "print(np.shape(X_train))\n",
    "print(np.shape(y_train))"
   ]
  },
  {
   "cell_type": "markdown",
   "metadata": {},
   "source": [
    "# Train Random Forest"
   ]
  },
  {
   "cell_type": "code",
   "execution_count": 7,
   "metadata": {},
   "outputs": [
    {
     "data": {
      "text/plain": [
       "RandomForestClassifier(bootstrap=True, ccp_alpha=0.0, class_weight=None,\n",
       "                       criterion='gini', max_depth=None, max_features='auto',\n",
       "                       max_leaf_nodes=None, max_samples=None,\n",
       "                       min_impurity_decrease=0.0, min_impurity_split=None,\n",
       "                       min_samples_leaf=1, min_samples_split=2,\n",
       "                       min_weight_fraction_leaf=0.0, n_estimators=100,\n",
       "                       n_jobs=None, oob_score=False, random_state=None,\n",
       "                       verbose=0, warm_start=False)"
      ]
     },
     "execution_count": 7,
     "metadata": {},
     "output_type": "execute_result"
    }
   ],
   "source": [
    "from sklearn.ensemble import RandomForestClassifier\n",
    "\n",
    "classifier = RandomForestClassifier(bootstrap=True)\n",
    "classifier.fit(X_train, y_train)"
   ]
  },
  {
   "cell_type": "markdown",
   "metadata": {},
   "source": [
    "## Test"
   ]
  },
  {
   "cell_type": "code",
   "execution_count": 8,
   "metadata": {},
   "outputs": [
    {
     "name": "stdout",
     "output_type": "stream",
     "text": [
      "1.0\n"
     ]
    }
   ],
   "source": [
    "y_pred = classifier.predict(X_test)\n",
    "from sklearn.metrics import accuracy_score\n",
    "\n",
    "print(accuracy_score(y_test, y_pred))"
   ]
  },
  {
   "cell_type": "markdown",
   "metadata": {},
   "source": [
    "# Confusion Matrix"
   ]
  },
  {
   "cell_type": "code",
   "execution_count": 9,
   "metadata": {},
   "outputs": [
    {
     "name": "stdout",
     "output_type": "stream",
     "text": [
      "[[971   0   0   0]\n",
      " [  0 866   0   0]\n",
      " [  0   0 960   0]\n",
      " [  0   0   0 946]]\n",
      "1.0\n"
     ]
    }
   ],
   "source": [
    "from sklearn.metrics import confusion_matrix, accuracy_score\n",
    "\n",
    "print(confusion_matrix(y_test, y_pred))\n",
    "print(accuracy_score(y_test, y_pred))"
   ]
  },
  {
   "cell_type": "markdown",
   "metadata": {},
   "source": [
    "# Individual Image Tests"
   ]
  },
  {
   "cell_type": "code",
   "execution_count": 10,
   "metadata": {},
   "outputs": [
    {
     "data": {
      "text/plain": [
       "array(['star'], dtype='<U8')"
      ]
     },
     "execution_count": 10,
     "metadata": {},
     "output_type": "execute_result"
    }
   ],
   "source": [
    "pil_image1 = Image.open(\"shapes/test_star.png\").convert('1').resize((200, 200))\n",
    "test_image1 = [ 255 if pixel else 0 for pixel in np.asarray(pil_image1).flatten() ]\n",
    "\n",
    "le.inverse_transform(classifier.predict([test_image1]))"
   ]
  },
  {
   "cell_type": "markdown",
   "metadata": {},
   "source": [
    "# Test on enlarged data set"
   ]
  },
  {
   "cell_type": "code",
   "execution_count": 11,
   "metadata": {},
   "outputs": [
    {
     "name": "stdout",
     "output_type": "stream",
     "text": [
      "(1200, 40000)\n"
     ]
    }
   ],
   "source": [
    "\n",
    "def import_dataset2():\n",
    "    shapes = [\"circle\", \"square\", \"triangle\", \"star\"]\n",
    "    X = []\n",
    "    y = []\n",
    "\n",
    "    for shape in shapes:\n",
    "        shape_files = os.listdir(f\"shapes/set2/{shape}\")\n",
    "        # random.shuffle(shape_files)\n",
    "        lengthy = len(shape_files)\n",
    "        for i_pos in range(lengthy):\n",
    "            pil_image = Image.open(\"shapes/set2/\"+str(shape)+\"/\"+str(i_pos)+\".png\").convert('1').resize((200, 200))\n",
    "            test_image = [ 255 if pixel else 0 for pixel in np.asarray(pil_image).flatten() ]\n",
    "            X.append(test_image)\n",
    "            y.append(shape)\n",
    "\n",
    "    return X, y\n",
    "\n",
    "X_bigset, y_bigset = import_dataset2()\n",
    "print(np.shape(X_bigset))"
   ]
  },
  {
   "cell_type": "code",
   "execution_count": 12,
   "metadata": {},
   "outputs": [
    {
     "name": "stdout",
     "output_type": "stream",
     "text": [
      "0.5\n"
     ]
    }
   ],
   "source": [
    "\n",
    "y_enc_o2 = le.fit_transform(y_bigset)\n",
    "\n",
    "y_pred_1_2 = classifier.predict(X_bigset)\n",
    "from sklearn.metrics import accuracy_score\n",
    "\n",
    "print(accuracy_score(y_enc_o2, y_pred_1_2))"
   ]
  },
  {
   "cell_type": "code",
   "execution_count": 13,
   "metadata": {},
   "outputs": [
    {
     "name": "stdout",
     "output_type": "stream",
     "text": [
      "[[100 200   0   0]\n",
      " [  0 300   0   0]\n",
      " [  0 200 100   0]\n",
      " [  0 200   0 100]]\n"
     ]
    }
   ],
   "source": [
    "print(confusion_matrix(y_enc_o2, y_pred_1_2))\n"
   ]
  },
  {
   "cell_type": "markdown",
   "metadata": {},
   "source": [
    "# Split large data"
   ]
  },
  {
   "cell_type": "code",
   "execution_count": 14,
   "metadata": {},
   "outputs": [
    {
     "name": "stdout",
     "output_type": "stream",
     "text": [
      "Training set shape:\n",
      "(samples,features)\n",
      "(900, 40000)\n",
      "Labels shape:\n",
      "(900,)\n",
      "Testing set shape:\n",
      "(samples,features)\n",
      "(900, 40000)\n",
      "Labels shape:\n",
      "(900,)\n"
     ]
    }
   ],
   "source": [
    "X_train_2, X_test_2, y_train_2, y_test_2 = train_test_split(X_bigset, y_enc_o2, test_size=1/4)\n",
    "print(\"Training set shape:\")\n",
    "print(\"(samples,features)\")\n",
    "print(np.shape(X_train_2))\n",
    "print(\"Labels shape:\")\n",
    "print(np.shape(y_train_2))\n",
    "\n",
    "print(\"Testing set shape:\")\n",
    "print(\"(samples,features)\")\n",
    "print(np.shape(X_train_2))\n",
    "print(\"Labels shape:\")\n",
    "print(np.shape(y_train_2))"
   ]
  },
  {
   "cell_type": "markdown",
   "metadata": {},
   "source": [
    "# New classifier"
   ]
  },
  {
   "cell_type": "markdown",
   "metadata": {},
   "source": [
    "# # Train [enlarged data only]"
   ]
  },
  {
   "cell_type": "code",
   "execution_count": 15,
   "metadata": {},
   "outputs": [
    {
     "data": {
      "text/plain": [
       "RandomForestClassifier(bootstrap=True, ccp_alpha=0.0, class_weight=None,\n",
       "                       criterion='gini', max_depth=None, max_features='auto',\n",
       "                       max_leaf_nodes=None, max_samples=None,\n",
       "                       min_impurity_decrease=0.0, min_impurity_split=None,\n",
       "                       min_samples_leaf=1, min_samples_split=2,\n",
       "                       min_weight_fraction_leaf=0.0, n_estimators=100,\n",
       "                       n_jobs=None, oob_score=False, random_state=None,\n",
       "                       verbose=0, warm_start=False)"
      ]
     },
     "execution_count": 15,
     "metadata": {},
     "output_type": "execute_result"
    }
   ],
   "source": [
    "\n",
    "\n",
    "classifier_2 = RandomForestClassifier(bootstrap=True)\n",
    "classifier_2.fit(X_train_2, y_train_2)"
   ]
  },
  {
   "cell_type": "markdown",
   "metadata": {},
   "source": [
    "# Test: enlarged data "
   ]
  },
  {
   "cell_type": "code",
   "execution_count": 16,
   "metadata": {},
   "outputs": [
    {
     "name": "stdout",
     "output_type": "stream",
     "text": [
      "1.0\n"
     ]
    }
   ],
   "source": [
    "y_pred_2 = classifier_2.predict(X_test_2)\n",
    "\n",
    "print(accuracy_score(y_test_2, y_pred_2))"
   ]
  },
  {
   "cell_type": "code",
   "execution_count": 17,
   "metadata": {},
   "outputs": [
    {
     "name": "stdout",
     "output_type": "stream",
     "text": [
      "[[85  0  0  0]\n",
      " [ 0 74  0  0]\n",
      " [ 0  0 80  0]\n",
      " [ 0  0  0 61]]\n"
     ]
    }
   ],
   "source": [
    "print(confusion_matrix(y_test_2, y_pred_2))"
   ]
  },
  {
   "cell_type": "markdown",
   "metadata": {},
   "source": [
    "#  Test: original data "
   ]
  },
  {
   "cell_type": "code",
   "execution_count": 18,
   "metadata": {},
   "outputs": [
    {
     "name": "stdout",
     "output_type": "stream",
     "text": [
      "0.38231365215068125\n"
     ]
    }
   ],
   "source": [
    "y_pred_2_1 = classifier_2.predict(X_test)\n",
    "\n",
    "print(accuracy_score(y_test, y_pred_2_1))"
   ]
  },
  {
   "cell_type": "code",
   "execution_count": 19,
   "metadata": {},
   "outputs": [
    {
     "name": "stdout",
     "output_type": "stream",
     "text": [
      "[[ 40 514 417   0]\n",
      " [  0 186 411 269]\n",
      " [  0   0 771 189]\n",
      " [  0   1 511 434]]\n"
     ]
    }
   ],
   "source": [
    "print(confusion_matrix(y_test, y_pred_2_1))"
   ]
  },
  {
   "cell_type": "markdown",
   "metadata": {},
   "source": [
    "# Combine training sets"
   ]
  },
  {
   "cell_type": "code",
   "execution_count": 20,
   "metadata": {},
   "outputs": [],
   "source": [
    "\n",
    "X_train_3 = X_train + X_train_2\n",
    "y_train_3 = np.concatenate([y_train,y_train_2])\n",
    "X_test_3 = X_test + X_test_2\n",
    "y_test_3 = np.concatenate([y_test,y_test_2])\n"
   ]
  },
  {
   "cell_type": "markdown",
   "metadata": {},
   "source": [
    "# Train"
   ]
  },
  {
   "cell_type": "code",
   "execution_count": 21,
   "metadata": {},
   "outputs": [
    {
     "data": {
      "text/plain": [
       "RandomForestClassifier(bootstrap=True, ccp_alpha=0.0, class_weight=None,\n",
       "                       criterion='gini', max_depth=None, max_features='auto',\n",
       "                       max_leaf_nodes=None, max_samples=None,\n",
       "                       min_impurity_decrease=0.0, min_impurity_split=None,\n",
       "                       min_samples_leaf=1, min_samples_split=2,\n",
       "                       min_weight_fraction_leaf=0.0, n_estimators=100,\n",
       "                       n_jobs=None, oob_score=False, random_state=None,\n",
       "                       verbose=0, warm_start=False)"
      ]
     },
     "execution_count": 21,
     "metadata": {},
     "output_type": "execute_result"
    }
   ],
   "source": [
    "classifier_3 = RandomForestClassifier(bootstrap=True)\n",
    "classifier_3.fit(X_train_3, y_train_3)"
   ]
  },
  {
   "cell_type": "code",
   "execution_count": 22,
   "metadata": {},
   "outputs": [
    {
     "name": "stdout",
     "output_type": "stream",
     "text": [
      "1.0\n",
      "[[1056    0    0    0]\n",
      " [   0  940    0    0]\n",
      " [   0    0 1040    0]\n",
      " [   0    0    0 1007]]\n"
     ]
    }
   ],
   "source": [
    "y_pred_3 = classifier_3.predict(X_test_3)\n",
    "\n",
    "print(accuracy_score(y_test_3, y_pred_3))\n",
    "print(confusion_matrix(y_test_3, y_pred_3))"
   ]
  },
  {
   "cell_type": "markdown",
   "metadata": {},
   "source": [
    "# Test using internet images"
   ]
  },
  {
   "cell_type": "code",
   "execution_count": 23,
   "metadata": {},
   "outputs": [
    {
     "data": {
      "image/png": "[encoded data removed]",
      "text/plain": [
       "<PIL.Image.Image image mode=1 size=200x200 at 0x7F7BED90D550>"
      ]
     },
     "metadata": {},
     "output_type": "display_data"
    },
    {
     "data": {
      "text/plain": [
       "array(['star'], dtype='<U8')"
      ]
     },
     "execution_count": 23,
     "metadata": {},
     "output_type": "execute_result"
    }
   ],
   "source": [
    "pil_image12 = Image.open(\"shapes/BlackStar.png\").convert('1').resize((200, 200))\n",
    "test_image12 = [ 255 if pixel else 0 for pixel in np.asarray(pil_image12).flatten() ]\n",
    "display(pil_image12)\n",
    "le.inverse_transform(classifier_3.predict([test_image12]))\n",
    "\n"
   ]
  },
  {
   "cell_type": "code",
   "execution_count": 24,
   "metadata": {},
   "outputs": [
    {
     "data": {
      "image/png": "[encoded data removed]",
      "text/plain": [
       "<PIL.Image.Image image mode=1 size=200x200 at 0x7F7BED908410>"
      ]
     },
     "metadata": {},
     "output_type": "display_data"
    },
    {
     "data": {
      "text/plain": [
       "array(['star'], dtype='<U8')"
      ]
     },
     "execution_count": 24,
     "metadata": {},
     "output_type": "execute_result"
    }
   ],
   "source": [
    "\n",
    "pil_image14 = Image.open(\"shapes/black_star3.png\").convert('1').resize((200, 200))\n",
    "test_image14 = [ 255 if pixel else 0 for pixel in np.asarray(pil_image14).flatten() ]\n",
    "display(pil_image14)\n",
    "le.inverse_transform(classifier_3.predict([test_image14]))\n",
    "\n"
   ]
  },
  {
   "cell_type": "code",
   "execution_count": 25,
   "metadata": {},
   "outputs": [
    {
     "data": {
      "image/png": "[encoded data removed]",
      "text/plain": [
       "<PIL.Image.Image image mode=1 size=200x200 at 0x7F7C1D03ED10>"
      ]
     },
     "metadata": {},
     "output_type": "display_data"
    },
    {
     "data": {
      "text/plain": [
       "array(['triangle'], dtype='<U8')"
      ]
     },
     "execution_count": 25,
     "metadata": {},
     "output_type": "execute_result"
    }
   ],
   "source": [
    "pil_image15 = Image.open(\"shapes/black_triangle1.png\").convert('1').resize((200, 200))\n",
    "test_image15 = [ 255 if pixel else 0 for pixel in np.asarray(pil_image15).flatten() ]\n",
    "display(pil_image15)\n",
    "le.inverse_transform(classifier_3.predict([test_image15]))"
   ]
  },
  {
   "cell_type": "code",
   "execution_count": 26,
   "metadata": {},
   "outputs": [
    {
     "data": {
      "image/png": "[encoded data removed]",
      "text/plain": [
       "<PIL.Image.Image image mode=1 size=200x200 at 0x7F7BF2889250>"
      ]
     },
     "metadata": {},
     "output_type": "display_data"
    },
    {
     "data": {
      "text/plain": [
       "array(['triangle'], dtype='<U8')"
      ]
     },
     "execution_count": 26,
     "metadata": {},
     "output_type": "execute_result"
    }
   ],
   "source": [
    "pil_image16 = Image.open(\"shapes/black_triangle2.png\").convert('1').resize((200, 200))\n",
    "test_image16 = [ 255 if pixel else 0 for pixel in np.asarray(pil_image16).flatten() ]\n",
    "display(pil_image16)\n",
    "le.inverse_transform(classifier_3.predict([test_image16]))"
   ]
  },
  {
   "cell_type": "code",
   "execution_count": 27,
   "metadata": {},
   "outputs": [
    {
     "data": {
      "image/png": "[encoded data removed]",
      "text/plain": [
       "<PIL.Image.Image image mode=1 size=200x200 at 0x7F7B99934B90>"
      ]
     },
     "metadata": {},
     "output_type": "display_data"
    },
    {
     "data": {
      "text/plain": [
       "array(['triangle'], dtype='<U8')"
      ]
     },
     "execution_count": 27,
     "metadata": {},
     "output_type": "execute_result"
    }
   ],
   "source": [
    "pil_image17 = Image.open(\"shapes/black_triangle4.png\").convert('1').resize((200, 200))\n",
    "test_image17 = [ 255 if pixel else 0 for pixel in np.asarray(pil_image17).flatten() ]\n",
    "display(pil_image17)\n",
    "le.inverse_transform(classifier_3.predict([test_image16]))"
   ]
  },
  {
   "cell_type": "code",
   "execution_count": null,
   "metadata": {},
   "outputs": [],
   "source": []
  },
  {
   "cell_type": "code",
   "execution_count": 28,
   "metadata": {},
   "outputs": [
    {
     "data": {
      "image/png": "[encoded data removed]",
      "text/plain": [
       "<PIL.Image.Image image mode=1 size=200x200 at 0x7F7B99947F10>"
      ]
     },
     "metadata": {},
     "output_type": "display_data"
    },
    {
     "data": {
      "text/plain": [
       "array(['star'], dtype='<U8')"
      ]
     },
     "execution_count": 28,
     "metadata": {},
     "output_type": "execute_result"
    }
   ],
   "source": [
    "pil_image13 = Image.open(\"shapes/black_star2.png\").convert('1').resize((200, 200))\n",
    "test_image13 = [ 255 if pixel else 0 for pixel in np.asarray(pil_image13).flatten() ]\n",
    "display(pil_image13)\n",
    "le.inverse_transform(classifier_3.predict([test_image13]))"
   ]
  },
  {
   "cell_type": "code",
   "execution_count": 30,
   "metadata": {},
   "outputs": [
    {
     "data": {
      "image/png": "[encoded data removed]",
      "text/plain": [
       "<PIL.Image.Image image mode=1 size=200x200 at 0x7F7B99946410>"
      ]
     },
     "metadata": {},
     "output_type": "display_data"
    },
    {
     "data": {
      "text/plain": [
       "array(['square'], dtype='<U8')"
      ]
     },
     "execution_count": 30,
     "metadata": {},
     "output_type": "execute_result"
    }
   ],
   "source": [
    "pil_image131 = Image.open(\"shapes/black_test1.png\").convert('1').resize((200, 200))\n",
    "test_image131 = [ 255 if pixel else 0 for pixel in np.asarray(pil_image131).flatten() ]\n",
    "display(pil_image131)\n",
    "le.inverse_transform(classifier_3.predict([test_image131]))"
   ]
  },
  {
   "cell_type": "code",
   "execution_count": 31,
   "metadata": {},
   "outputs": [
    {
     "data": {
      "image/png": "[encoded data removed]",
      "text/plain": [
       "<PIL.Image.Image image mode=1 size=200x200 at 0x7F7B99920CD0>"
      ]
     },
     "metadata": {},
     "output_type": "display_data"
    },
    {
     "data": {
      "text/plain": [
       "array(['circle'], dtype='<U8')"
      ]
     },
     "execution_count": 31,
     "metadata": {},
     "output_type": "execute_result"
    }
   ],
   "source": [
    "pil_image135 = Image.open(\"shapes/circle_test1.png\").convert('1').resize((200, 200))\n",
    "test_image135 = [ 255 if pixel else 0 for pixel in np.asarray(pil_image135).flatten() ]\n",
    "display(pil_image135)\n",
    "le.inverse_transform(classifier_3.predict([test_image135]))"
   ]
  },
  {
   "cell_type": "code",
   "execution_count": 32,
   "metadata": {},
   "outputs": [
    {
     "data": {
      "image/png": "[encoded data removed]",
      "text/plain": [
       "<PIL.Image.Image image mode=1 size=200x200 at 0x7F7B99947110>"
      ]
     },
     "metadata": {},
     "output_type": "display_data"
    },
    {
     "data": {
      "text/plain": [
       "array(['circle'], dtype='<U8')"
      ]
     },
     "execution_count": 32,
     "metadata": {},
     "output_type": "execute_result"
    }
   ],
   "source": [
    "pil_image136 = Image.open(\"shapes/circle_test2.png\").convert('1').resize((200, 200))\n",
    "test_image136 = [ 255 if pixel else 0 for pixel in np.asarray(pil_image136).flatten() ]\n",
    "display(pil_image136)\n",
    "le.inverse_transform(classifier_3.predict([test_image136]))"
   ]
  },
  {
   "cell_type": "code",
   "execution_count": 33,
   "metadata": {},
   "outputs": [
    {
     "data": {
      "image/png": "[encoded data removed]",
      "text/plain": [
       "<PIL.Image.Image image mode=1 size=200x200 at 0x7F7BED919590>"
      ]
     },
     "metadata": {},
     "output_type": "display_data"
    },
    {
     "data": {
      "text/plain": [
       "array(['square'], dtype='<U8')"
      ]
     },
     "execution_count": 33,
     "metadata": {},
     "output_type": "execute_result"
    }
   ],
   "source": [
    "pil_image133 = Image.open(\"shapes/black_test3.png\").convert('1').resize((200, 200))\n",
    "test_image133 = [ 255 if pixel else 0 for pixel in np.asarray(pil_image133).flatten() ]\n",
    "display(pil_image133)\n",
    "le.inverse_transform(classifier_3.predict([test_image133]))"
   ]
  },
  {
   "cell_type": "code",
   "execution_count": null,
   "metadata": {},
   "outputs": [],
   "source": []
  },
  {
   "cell_type": "markdown",
   "metadata": {},
   "source": [
    "# Code used to generate second data set"
   ]
  },
  {
   "cell_type": "code",
   "execution_count": null,
   "metadata": {},
   "outputs": [],
   "source": [
    "#def zoom_at(img, x, y, zoom):\n",
    " #   w, h = img.size\n",
    "  ##  zoom2 = zoom * 2\n",
    "    #img = img.crop((x - w / zoom2, y - h / zoom2, \n",
    "  #                  x + w / zoom2, y + h / zoom2))\n",
    "    #return img.resize((w, h), Image.LANCZOS)\n",
    "#image123 = Image.open(\"/Users/jakeburditt/Desktop/2022 Semester 1/DSP/shapes-classifier-main/shapes/test_star.png\")\n",
    "#image1234 = zoom_at(image123,100,100,1.5)\n",
    "#image1234.save(\"/Users/jakeburditt/Desktop/2022 Semester 1/DSP/shapes-classifier-main/shapes/test_star_zoom.png\")\n",
    "\n",
    "#from PIL import Image, ImageDraw, ImageOps\n",
    "#path = \"/Users/jakeburditt/Desktop/2022 Semester 1/DSP/shapes-classifier-main/shapes/\"\n",
    "#for x in [\"circle\", \"square\", \"triangle\", \"star\"]:\n",
    " #   for i in range(100):\n",
    "  #          image1  = Image.open(str(path)+str(x)+\"/\"+str(i)+\".png\")  # could also open an existing image here to draw shapes over it\n",
    "        # can vary this bit to draw different shapes in different positions\n",
    "           \n",
    "   #         for j in range(1,4,1):\n",
    "    #            rotated_image1 = zoom_at(image1,100,100,(1+j*0.25))\n",
    "               \n",
    "     #           rotated_image1.save(str(path)+\"set2/\"+str(x)+\"/\" +str(i+(j-1)*100)+'.png')"
   ]
  }
 ],
 "metadata": {
  "kernelspec": {
   "display_name": "Python 3",
   "language": "python",
   "name": "python3"
  },
  "language_info": {
   "codemirror_mode": {
    "name": "ipython",
    "version": 3
   },
   "file_extension": ".py",
   "mimetype": "text/x-python",
   "name": "python",
   "nbconvert_exporter": "python",
   "pygments_lexer": "ipython3",
   "version": "3.7.6"
  }
 },
 "nbformat": 4,
 "nbformat_minor": 4
}
